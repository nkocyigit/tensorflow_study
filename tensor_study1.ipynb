{
 "cells": [
  {
   "cell_type": "code",
   "execution_count": null,
   "metadata": {
    "collapsed": true
   },
   "outputs": [],
   "source": [
    "# basic concepts of tensorflow"
   ]
  },
  {
   "cell_type": "code",
   "execution_count": 1,
   "metadata": {
    "collapsed": true
   },
   "outputs": [],
   "source": [
    "# as usual we should import the package\n",
    "# This gives Python access to all of TensorFlow's classes, \n",
    "# methods, and symbols.\n",
    "\n",
    "import tensorflow as tf"
   ]
  },
  {
   "cell_type": "code",
   "execution_count": 2,
   "metadata": {},
   "outputs": [
    {
     "name": "stdout",
     "output_type": "stream",
     "text": [
      "Tensor(\"Const:0\", shape=(), dtype=float32) Tensor(\"Const_1:0\", shape=(), dtype=float32)\n"
     ]
    }
   ],
   "source": [
    "# The Computational Graph\n",
    "#\n",
    "# You might think of TensorFlow Core programs as consisting of \n",
    "# two discrete sections:\n",
    "#\n",
    "# 1. Building the computational graph.\n",
    "# 2. Running the computational graph.\n",
    "\n",
    "# A computational graph is a series of TensorFlow operations arranged\n",
    "# into a graph of nodes. Let's build a simple computational graph. Each \n",
    "# node takes zero or more tensors as inputs and produces a tensor as an \n",
    "# output. One type of node is a constant. Like all TensorFlow constants, \n",
    "# it takes no inputs, and it outputs a value it stores internally. We \n",
    "# can create two floating point Tensors node1 and node2 as follows:\n",
    "\n",
    "node1 = tf.constant(3.0, dtype=tf.float32)\n",
    "# also tf.float32 implicitly\n",
    "node2 = tf.constant(4.0)\n",
    "print(node1, node2)"
   ]
  },
  {
   "cell_type": "code",
   "execution_count": 7,
   "metadata": {},
   "outputs": [
    {
     "name": "stdout",
     "output_type": "stream",
     "text": [
      "[3.0, 4.0]\n"
     ]
    }
   ],
   "source": [
    "# Notice that printing the nodes does not output the values 3.0 and 4.0 as \n",
    "# you might expect. Instead, they are nodes that, when evaluated, would \n",
    "# produce 3.0 and 4.0, respectively. To actually evaluate the nodes, we must \n",
    "# run the computational graph within a session. A session encapsulates the \n",
    "# control and state of the TensorFlow runtime.\n",
    "#\n",
    "# The following code creates a Session object and then invokes its run method \n",
    "# to run enough of the computational graph to evaluate node1 and node2. By \n",
    "# running the computational graph in a session as follows:\n",
    "\n",
    "sess = tf.Session()\n",
    "print(sess.run([node1, node2]))"
   ]
  },
  {
   "cell_type": "code",
   "execution_count": 17,
   "metadata": {},
   "outputs": [
    {
     "name": "stdout",
     "output_type": "stream",
     "text": [
      "node3: Tensor(\"Add_4:0\", shape=(), dtype=float32)\n",
      "sess.run(node3): 7.0\n"
     ]
    }
   ],
   "source": [
    "# We can build more complicated computations by combining Tensor nodes with \n",
    "# operations (Operations are also nodes). For example, we can add our two constant \n",
    "# nodes and produce a new graph as follows:\n",
    "\n",
    "# writer = tf.summary.FileWriter(\"/Users/nk/anaconda/envs/tensorflow/logs\", graph=tf.get_default_graph())\n",
    "\n",
    "node3 = tf.add(node1, node2)\n",
    "print(\"node3:\", node3)\n",
    "print(\"sess.run(node3):\", sess.run(node3))"
   ]
  },
  {
   "cell_type": "code",
   "execution_count": 36,
   "metadata": {},
   "outputs": [
    {
     "data": {
      "text/html": [
       "<p>TensorFlow provides a utility called TensorBoard that can display a picture of \n",
       "   the computational graph. Here is a screenshot showing how TensorBoard visualizes the graph:</p>\n",
       "\n",
       "<img src=\"https://www.tensorflow.org/images/getting_started_add.png\">"
      ],
      "text/plain": [
       "<IPython.core.display.HTML object>"
      ]
     },
     "metadata": {},
     "output_type": "display_data"
    }
   ],
   "source": [
    "%%html\n",
    "<p>TensorFlow provides a utility called TensorBoard that can display a picture of \n",
    "   the computational graph. Here is a screenshot showing how TensorBoard visualizes the graph:</p>\n",
    "\n",
    "<img src=\"https://www.tensorflow.org/images/getting_started_add.png\">"
   ]
  },
  {
   "cell_type": "code",
   "execution_count": 19,
   "metadata": {
    "collapsed": true
   },
   "outputs": [],
   "source": [
    "# As it stands, this graph is not especially interesting because it always \n",
    "# produces a constant result. A graph can be parameterized to accept external \n",
    "# inputs, known as placeholders. A placeholder is a promise to provide a value later.\n",
    "\n",
    "a = tf.placeholder(tf.float32)\n",
    "b = tf.placeholder(tf.float32)\n",
    "# + provides a shortcut for tf.add(a, b)\n",
    "adder_node = a + b "
   ]
  },
  {
   "cell_type": "code",
   "execution_count": 20,
   "metadata": {},
   "outputs": [
    {
     "name": "stdout",
     "output_type": "stream",
     "text": [
      "7.5\n",
      "[ 3.  7.]\n"
     ]
    }
   ],
   "source": [
    "# The preceding three lines are a bit like a function or a lambda in which \n",
    "# we define two input parameters (a and b) and then an operation on them. \n",
    "# We can evaluate this graph with multiple inputs by using the feed_dict \n",
    "# argument to the run method to feed concrete values to the placeholders:\n",
    "\n",
    "print(sess.run(adder_node, {a: 3, b: 4.5}))\n",
    "print(sess.run(adder_node, {a: [1, 3], b: [2, 4]}))"
   ]
  },
  {
   "cell_type": "code",
   "execution_count": 33,
   "metadata": {},
   "outputs": [
    {
     "data": {
      "text/html": [
       "<p>In TensorBoard, the graph looks like this:</p>\n",
       "<img src=\"https://www.tensorflow.org/images/getting_started_adder.png\">"
      ],
      "text/plain": [
       "<IPython.core.display.HTML object>"
      ]
     },
     "metadata": {},
     "output_type": "display_data"
    }
   ],
   "source": [
    "%%html\n",
    "<p>In TensorBoard, the graph looks like this:</p>\n",
    "<img src=\"https://www.tensorflow.org/images/getting_started_adder.png\">"
   ]
  },
  {
   "cell_type": "code",
   "execution_count": 31,
   "metadata": {},
   "outputs": [
    {
     "name": "stdout",
     "output_type": "stream",
     "text": [
      "22.5\n"
     ]
    }
   ],
   "source": [
    "# We can make the computational graph more complex by adding another \n",
    "# operation. For example,\n",
    "\n",
    "add_and_triple = adder_node * 3.\n",
    "print(sess.run(add_and_triple, {a: 3, b: 4.5}))"
   ]
  },
  {
   "cell_type": "code",
   "execution_count": 35,
   "metadata": {},
   "outputs": [
    {
     "data": {
      "text/html": [
       "<p>The preceding computational graph would look as follows in TensorBoard:</p>\n",
       "<img src=\"https://www.tensorflow.org/images/getting_started_triple.png\">"
      ],
      "text/plain": [
       "<IPython.core.display.HTML object>"
      ]
     },
     "metadata": {},
     "output_type": "display_data"
    }
   ],
   "source": [
    "%%html\n",
    "<p>The preceding computational graph would look as follows in TensorBoard:</p>\n",
    "<img src=\"https://www.tensorflow.org/images/getting_started_triple.png\">"
   ]
  }
 ],
 "metadata": {
  "kernelspec": {
   "display_name": "Python [conda env:tensorflow]",
   "language": "python",
   "name": "conda-env-tensorflow-py"
  },
  "language_info": {
   "codemirror_mode": {
    "name": "ipython",
    "version": 3
   },
   "file_extension": ".py",
   "mimetype": "text/x-python",
   "name": "python",
   "nbconvert_exporter": "python",
   "pygments_lexer": "ipython3",
   "version": "3.5.4"
  }
 },
 "nbformat": 4,
 "nbformat_minor": 2
}
