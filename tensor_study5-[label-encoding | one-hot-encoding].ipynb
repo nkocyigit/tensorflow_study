{
 "cells": [
  {
   "cell_type": "code",
   "execution_count": null,
   "metadata": {
    "collapsed": true
   },
   "outputs": [],
   "source": [
    "Label Encoder\n",
    "\n",
    "Label encoder basically converts the string categorical values into integer categorical ids. Eg. if you have a field\n",
    "of countries like \"Turkey,France,Itely,Germany\" and apply the label encoder it will generate an integer id value for\n",
    "each country value. After applying the label encoder we will have a class of ids 0,1,2 and 3, one id per country.\n",
    "As you can guess the ids will point to the original country names."
   ]
  },
  {
   "cell_type": "code",
   "execution_count": 20,
   "metadata": {},
   "outputs": [
    {
     "name": "stdout",
     "output_type": "stream",
     "text": [
      "['cold' 'cold' 'warm' 'cold' 'hot' 'hot' 'warm' 'cold' 'warm' 'hot']\n"
     ]
    }
   ],
   "source": [
    "from numpy import array\n",
    "from sklearn.preprocessing import LabelEncoder\n",
    "from sklearn.preprocessing import OneHotEncoder\n",
    "# define example\n",
    "data = ['cold', 'cold', 'warm', 'cold', 'hot', 'hot', 'warm', 'cold', 'warm', 'hot']\n",
    "values = array(data)\n",
    "print(values)"
   ]
  },
  {
   "cell_type": "code",
   "execution_count": 21,
   "metadata": {},
   "outputs": [
    {
     "name": "stdout",
     "output_type": "stream",
     "text": [
      "[0 0 2 0 1 1 2 0 2 1]\n"
     ]
    }
   ],
   "source": [
    "# integer encode\n",
    "label_encoder = LabelEncoder()\n",
    "integer_encoded = label_encoder.fit_transform(values)\n",
    "print(integer_encoded)"
   ]
  },
  {
   "cell_type": "code",
   "execution_count": 26,
   "metadata": {},
   "outputs": [
    {
     "name": "stdout",
     "output_type": "stream",
     "text": [
      "[[ 1.  0.  0.]\n",
      " [ 1.  0.  0.]\n",
      " [ 0.  0.  1.]\n",
      " [ 1.  0.  0.]\n",
      " [ 0.  1.  0.]\n",
      " [ 0.  1.  0.]\n",
      " [ 0.  0.  1.]\n",
      " [ 1.  0.  0.]\n",
      " [ 0.  0.  1.]\n",
      " [ 0.  1.  0.]]\n"
     ]
    }
   ],
   "source": [
    "# binary encode\n",
    "onehot_encoder = OneHotEncoder(sparse=False)\n",
    "onehot_encoded = onehot_encoder.fit_transform(integer_encoded)\n",
    "print(onehot_encoded)"
   ]
  },
  {
   "cell_type": "code",
   "execution_count": 13,
   "metadata": {},
   "outputs": [
    {
     "data": {
      "text/html": [
       "<p style=\"text-align:justify\">\n",
       "<strong>One Hot Encoding</strong><br><br>\n",
       "One hot encoding is a process by which categorical variables are converted into a form\n",
       "that could be provided to ML algorithms to do a better job in prediction.\n",
       "A one hot encoding is a representation of categorical variables as binary vectors.\n",
       "This first requires that the categorical values be mapped to integer values.\n",
       "Then, each integer value is represented as a binary vector that is all zero values except\n",
       "the index of the integer, which is marked with a 1.\n",
       "<img src=\"https://www.codeproject.com/KB/AI/1146582/onehotencoding.PNG\"></img>\n",
       "</p>\n",
       "<p style=\"text-align:justify\">\n",
       "A one hot encoding allows the representation of categorical data to be more expressive.\n",
       "\n",
       "Many machine learning algorithms cannot work with categorical data directly. The categories must be converted \n",
       "into numbers. This is required for both input and output variables that are categorical.\n",
       "\n",
       "We could use an integer encoding directly, rescaled where needed. This may work for problems where there is a \n",
       "natural ordinal relationship between the categories, and in turn the integer values, such as labels for \n",
       "temperature ‘cold’, warm’, and ‘hot’.\n",
       "\n",
       "There may be problems when there is no ordinal relationship and allowing the representation to lean on any such \n",
       "relationship might be damaging to learning to solve the problem. An example might be the labels ‘dog’ and ‘cat’\n",
       "\n",
       "In these cases, we would like to give the network more expressive power to learn a probability-like number \n",
       "for each possible label value. This can help in both making the problem easier for the network to model. \n",
       "When a one hot encoding is used for the output variable, it may offer a more nuanced set of predictions \n",
       "than a single label.\n",
       "</p>"
      ],
      "text/plain": [
       "<IPython.core.display.HTML object>"
      ]
     },
     "metadata": {},
     "output_type": "display_data"
    }
   ],
   "source": [
    "%%html\n",
    "<p style=\"text-align:justify\">\n",
    "<strong>One Hot Encoding</strong><br><br>\n",
    "One hot encoding is a process by which categorical variables are converted into a form\n",
    "that could be provided to ML algorithms to do a better job in prediction.\n",
    "A one hot encoding is a representation of categorical variables as binary vectors.\n",
    "This first requires that the categorical values be mapped to integer values.\n",
    "Then, each integer value is represented as a binary vector that is all zero values except\n",
    "the index of the integer, which is marked with a 1.\n",
    "<img src=\"https://www.codeproject.com/KB/AI/1146582/onehotencoding.PNG\"></img>\n",
    "</p>\n",
    "<p style=\"text-align:justify\">\n",
    "A one hot encoding allows the representation of categorical data to be more expressive.\n",
    "\n",
    "Many machine learning algorithms cannot work with categorical data directly. The categories must be converted \n",
    "into numbers. This is required for both input and output variables that are categorical.\n",
    "\n",
    "We could use an integer encoding directly, rescaled where needed. This may work for problems where there is a \n",
    "natural ordinal relationship between the categories, and in turn the integer values, such as labels for \n",
    "temperature ‘cold’, warm’, and ‘hot’.\n",
    "\n",
    "There may be problems when there is no ordinal relationship and allowing the representation to lean on any such \n",
    "relationship might be damaging to learning to solve the problem. An example might be the labels ‘dog’ and ‘cat’\n",
    "\n",
    "In these cases, we would like to give the network more expressive power to learn a probability-like number \n",
    "for each possible label value. This can help in both making the problem easier for the network to model. \n",
    "When a one hot encoding is used for the output variable, it may offer a more nuanced set of predictions \n",
    "than a single label.\n",
    "</p>"
   ]
  }
 ],
 "metadata": {
  "kernelspec": {
   "display_name": "Python [conda env:tensorflow]",
   "language": "python",
   "name": "conda-env-tensorflow-py"
  },
  "language_info": {
   "codemirror_mode": {
    "name": "ipython",
    "version": 3
   },
   "file_extension": ".py",
   "mimetype": "text/x-python",
   "name": "python",
   "nbconvert_exporter": "python",
   "pygments_lexer": "ipython3",
   "version": "3.5.4"
  }
 },
 "nbformat": 4,
 "nbformat_minor": 2
}
