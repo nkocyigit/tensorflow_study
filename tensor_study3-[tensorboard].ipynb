{
 "cells": [
  {
   "cell_type": "code",
   "execution_count": 1,
   "metadata": {},
   "outputs": [
    {
     "name": "stdout",
     "output_type": "stream",
     "text": [
      "39.68\n"
     ]
    }
   ],
   "source": [
    "# tensorboard sample\n",
    "# tensorboard will output the logs to the specified file\n",
    "# than we will run the tensorboard and will see the our\n",
    "# model graph\n",
    "# run the tensorboard as following\n",
    "# tensorboard --logdir=logs/study3_log\n",
    "# then connect the tensorboard using the browser\n",
    "# http://localhost:6006\n",
    "# we should see the graph output of our model\n",
    "\n",
    "import tensorflow as tf\n",
    "\n",
    "tf.reset_default_graph()\n",
    "\n",
    "x = tf.constant(5.1, name=\"x\")\n",
    "y = tf.constant(7.3, name=\"y\")\n",
    "\n",
    "q = tf.add(x,y,name=\"q\")\n",
    "\n",
    "coef = tf.constant(3.2, name=\"coef\")\n",
    "t = tf.multiply(q,coef,name=\"mul\")\n",
    "\n",
    "sess = tf.Session()\n",
    "\n",
    "writer = tf.summary.FileWriter(\"./logs/study3_log\",sess.graph)\n",
    "\n",
    "print(sess.run(t))\n",
    "\n",
    "sess.close()"
   ]
  }
 ],
 "metadata": {
  "kernelspec": {
   "display_name": "Python [conda env:tensorflow]",
   "language": "python",
   "name": "conda-env-tensorflow-py"
  },
  "language_info": {
   "codemirror_mode": {
    "name": "ipython",
    "version": 3
   },
   "file_extension": ".py",
   "mimetype": "text/x-python",
   "name": "python",
   "nbconvert_exporter": "python",
   "pygments_lexer": "ipython3",
   "version": "3.5.4"
  }
 },
 "nbformat": 4,
 "nbformat_minor": 2
}
