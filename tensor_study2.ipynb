{
 "cells": [
  {
   "cell_type": "code",
   "execution_count": 2,
   "metadata": {
    "collapsed": true
   },
   "outputs": [],
   "source": [
    "# as usual we should import the package\n",
    "# This gives Python access to all of TensorFlow's classes, \n",
    "# methods, and symbols.\n",
    "# in this sample we will solve a linear regression problem\n",
    "# using the tensorflow\n",
    "\n",
    "import tensorflow as tf"
   ]
  },
  {
   "cell_type": "code",
   "execution_count": 3,
   "metadata": {
    "collapsed": true
   },
   "outputs": [],
   "source": [
    "# In machine learning we will typically want a model that can take arbitrary inputs, \n",
    "# to make the model trainable, we need to be able to modify the graph to get new outputs \n",
    "# with the same input. Variables allow us to add trainable parameters to a graph. \n",
    "# They are constructed with a type and initial value:\n",
    "\n",
    "with tf.variable_scope(\"my_scope\"):\n",
    "    W = tf.Variable([.3], dtype=tf.float32)\n",
    "    b = tf.Variable([-.3], dtype=tf.float32)\n",
    "\n",
    "x = tf.placeholder(tf.float32)\n",
    "\n",
    "linear_model = W*x + b"
   ]
  },
  {
   "cell_type": "code",
   "execution_count": 4,
   "metadata": {
    "collapsed": true
   },
   "outputs": [],
   "source": [
    "# Constants are initialized when you call tf.constant, and their value can never change. \n",
    "# By contrast, variables are not initialized when you call tf.Variable. To initialize all \n",
    "# the variables in a TensorFlow program, you must explicitly call a special operation as follows:\n",
    "\n",
    "sess = tf.Session()\n",
    "\n",
    "init = tf.global_variables_initializer()\n",
    "sess.run(init)"
   ]
  },
  {
   "cell_type": "code",
   "execution_count": 5,
   "metadata": {},
   "outputs": [
    {
     "name": "stdout",
     "output_type": "stream",
     "text": [
      "[ 0.          0.30000001  0.60000002  0.90000004]\n",
      "Tensor(\"my_scope/Variable/initial_value:0\", shape=(1,), dtype=float32)\n",
      "Tensor(\"my_scope/Variable_1/initial_value:0\", shape=(1,), dtype=float32)\n"
     ]
    }
   ],
   "source": [
    "# It is important to realize init is a handle to the TensorFlow sub-graph that initializes \n",
    "# all the global variables. Until we call sess.run, the variables are uninitialized.\n",
    "\n",
    "# Since x is a placeholder, we can evaluate linear_model for several \n",
    "# values of x simultaneously as follows:\n",
    "\n",
    "print(sess.run(linear_model, {x: [1, 2, 3, 4]}))\n",
    "\n",
    "for i in tf.get_collection(tf.GraphKeys.GLOBAL_VARIABLES, scope='my_scope'):\n",
    "    print (i.initial_value) "
   ]
  },
  {
   "cell_type": "code",
   "execution_count": 6,
   "metadata": {
    "scrolled": true
   },
   "outputs": [
    {
     "name": "stdout",
     "output_type": "stream",
     "text": [
      "23.66\n"
     ]
    }
   ],
   "source": [
    "# We've created a model, but we don't know how good it is yet. To evaluate the model \n",
    "# on training data, we need a y placeholder to provide the desired values, and we \n",
    "# need to write a loss function.\n",
    "\n",
    "# A loss function measures how far apart the current model is from the provided data. \n",
    "# We'll use a standard loss model for linear regression, which sums the squares of \n",
    "# the deltas between the current model and the provided data. \n",
    "# linear_model - y creates a vector where each element is the corresponding example's \n",
    "# error delta. We call tf.square to square that error. Then, we sum all the squared \n",
    "# errors to create a single scalar that abstracts the error of all examples \n",
    "# using tf.reduce_sum:\n",
    "# producing the loss value\n",
    "\n",
    "y = tf.placeholder(tf.float32)\n",
    "squared_deltas = tf.square(linear_model - y)\n",
    "loss = tf.reduce_sum(squared_deltas)\n",
    "print(sess.run(loss, {x: [1, 2, 3, 4], y: [0, -1, -2, -3]}))"
   ]
  },
  {
   "cell_type": "code",
   "execution_count": 17,
   "metadata": {},
   "outputs": [
    {
     "name": "stdout",
     "output_type": "stream",
     "text": [
      "[ 4  6  8 10]\n",
      "[4 3 6 7]\n",
      "-16\n"
     ]
    }
   ],
   "source": [
    "# a simple adding model\n",
    "# with two variables\n",
    "\n",
    "a = tf.placeholder(tf.int32)\n",
    "b = tf.placeholder(tf.int32)\n",
    "\n",
    "my_model = a + b;\n",
    "\n",
    "session = tf.Session()\n",
    "\n",
    "init = tf.global_variables_initializer()\n",
    "session.run(init)\n",
    "\n",
    "print(session.run(my_model, {a: [1,2,3,4], b: [3,4,5,6]}))\n",
    "print(session.run(my_model, {a: [1], b: [3,2,5,6]}))\n",
    "\n",
    "red_sum = tf.reduce_sum(b - a)\n",
    "\n",
    "print(sess.run(red_sum, {a: [1, 2, 3, 4], b: [0, -1, -2, -3]}))"
   ]
  }
 ],
 "metadata": {
  "kernelspec": {
   "display_name": "Python [conda env:tensorflow]",
   "language": "python",
   "name": "conda-env-tensorflow-py"
  },
  "language_info": {
   "codemirror_mode": {
    "name": "ipython",
    "version": 3
   },
   "file_extension": ".py",
   "mimetype": "text/x-python",
   "name": "python",
   "nbconvert_exporter": "python",
   "pygments_lexer": "ipython3",
   "version": "3.5.4"
  }
 },
 "nbformat": 4,
 "nbformat_minor": 2
}
